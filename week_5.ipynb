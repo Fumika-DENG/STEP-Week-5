{
  "nbformat": 4,
  "nbformat_minor": 0,
  "metadata": {
    "colab": {
      "provenance": []
    },
    "kernelspec": {
      "name": "python3",
      "display_name": "Python 3"
    },
    "language_info": {
      "name": "python"
    }
  },
  "cells": [
    {
      "cell_type": "code",
      "execution_count": 9,
      "metadata": {
        "colab": {
          "base_uri": "https://localhost:8080/"
        },
        "id": "hC2gv2pRp6p8",
        "outputId": "aac0e6f1-20dc-4724-d2d0-783fd3054609"
      },
      "outputs": [
        {
          "output_type": "stream",
          "name": "stdout",
          "text": [
            "greedy: [(0, 0), (150.17533883877582, 25.51272886980568), (214.98279057984195, 762.6903632435094), (792.6961393471055, 404.5419583098643), (1042.5487563564209, 709.8510160219619), (1222.0393903625825, 229.56212316547956)]\n",
            "total distance： 2479.3100000000004\n"
          ]
        }
      ],
      "source": [
        "import time\n",
        "import math\n",
        "import pandas as pd\n",
        "\n",
        "\n",
        "# calculate distance between 2 points\n",
        "def calculate_distance(point1, point2):\n",
        "    (x1, y1) = point1\n",
        "    (x2, y2) = point2\n",
        "    distance = math.sqrt((x2 - x1) ** 2 + (y2 - y1) ** 2)\n",
        "    return round(distance, 2)\n",
        "\n",
        "\n",
        "def demo():\n",
        "    distance = calculate_distance((200, 150), (400, 200))\n",
        "    print(distance)\n",
        "    distance = calculate_distance((200, 150), (300, 350))\n",
        "    print(distance)\n",
        "\n",
        "\n",
        "def get_min_point_from_left(current_point, left_points):\n",
        "    min_distance = float('inf')  # take value as infinite\n",
        "    min_point = (0, 0)\n",
        "    for tmp_point in left_points:\n",
        "        tmp_distance = calculate_distance(current_point, tmp_point)\n",
        "        if tmp_distance < min_distance:\n",
        "            min_distance = tmp_distance\n",
        "            min_point = tmp_point\n",
        "\n",
        "    return min_point\n",
        "\n",
        "# calculate total distance\n",
        "def calculate_total_distance(path):\n",
        "    total_distance = 0\n",
        "    for i in range(len(path) - 1):\n",
        "        total_distance += calculate_distance(path[i], path[i + 1])\n",
        "    return total_distance\n",
        "\n",
        "if __name__ == '__main__':\n",
        "    # start_time = time.time()\n",
        "    # print(start_time)\n",
        "    df = pd.read_csv(\"input_0.csv\")\n",
        "    points = [(0, 0)] + list(zip(df['x'], df['y']))\n",
        "\n",
        "\n",
        "\n",
        "    # start point is fixed\n",
        "    current_point = points[0]\n",
        "\n",
        "    # path reserve the shortest path\n",
        "    path = [points[0]]\n",
        "\n",
        "    # left points\n",
        "    left_points = points[1:]\n",
        "\n",
        "    # if there are left points, continue calculating\n",
        "    while len(left_points) > 0:\n",
        "        min_point = get_min_point_from_left(current_point, left_points)\n",
        "        path.append(min_point)\n",
        "        left_points.remove(min_point)\n",
        "        current_point = min_point\n",
        "\n",
        "    print(\"greedy:\", path)\n",
        "    print(\"total distance：\", calculate_total_distance(path))\n",
        "\n",
        "\n",
        "\n",
        "    # print(\"total time：\", time.time() - start_time)\n"
      ]
    }
  ]
}